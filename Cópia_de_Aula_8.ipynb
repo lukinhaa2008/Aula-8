{
  "nbformat": 4,
  "nbformat_minor": 0,
  "metadata": {
    "colab": {
      "provenance": []
    },
    "kernelspec": {
      "name": "python3",
      "display_name": "Python 3"
    },
    "language_info": {
      "name": "python"
    }
  },
  "cells": [
    {
      "cell_type": "markdown",
      "source": [
        "# Manipulação de arquivos"
      ],
      "metadata": {
        "id": "ci_Q7GZvBuok"
      }
    },
    {
      "cell_type": "markdown",
      "source": [
        "![image.png](data:image/png;base64,iVBORw0KGgoAAAANSUhEUgAAAdIAAAAnCAYAAAC7SMkoAAAAAXNSR0IArs4c6QAAAARnQU1BAACxjwv8YQUAAAAJcEhZcwAADsMAAA7DAcdvqGQAAAytSURBVHhe7Z1vaBRnHse/sW9M5ch5IYnhMF2LL5b+0YsBl/ZQV+3RtGndpFgTEGqKnE240yBic9eCLIH2LpUgqXckbSldBYsrhWTvmpIX2myVnmxAvXi9khei24SiSQhFjnb7pu79nplndp6Z3c3O7uwm0f4+MuSZZ2aeZ+aZzfN9fn82liUSiSQYhmEYhimIFfInwzAMwzAFwELKMAzDMC5gIWUYhmEYF7CQMgzDMIwLWEgZhmEYxgUspAzDMAzjAhZShmEYhnEBCynDMAzDuICFlGEYhmFcwELKMAzDMC5gIWUYhmEYF7CQMgzDMIwLWEiXO7MrsPfphzAudxlm8VmB40+vwLlZucswjIWcQho70YvyWnPrvSoPSIzj9nrgOnqV68pPXJf1jHNoAmsuA95MYrOsUZmNHMAndXUYuyYr7leundSew9ju++eRTPaL5zmA2G1ZUSKK0s/tYXwqxr8/7ReZuIdX3gT2N/+MF3QTNIf19iImd0tGSfqZQXiwnNqV22CYagonFtbb6Z2QFczCQjozPAj/O48gersbCbl1b5IHc7IB3fKa6OuyiskDsgCOlKFnbxJnmu7JOivVdU/K0n1O/UHsnpqibRiVsqpUaIuPzmG4M66uYsyB4P/K0yhLpaUo/dTWYZUsZqKGPoMX9gI7j6xwNQnnRAhJWMqIKOc16RuCYRWimfNtP/OJvwatHQkkuhOINwRkXanQ30Hb+ZJ+SpYdCwjpLKKf3UVgYAd8siYTvsP5CizjiOtl2H85iQ9fziyiJo14eI0sMsuQJ1FRK4slpTj9rPSslaV0Nr+cxK7LZThdQufSzJy5OlHLzgkgUBFENCWaM4jeoNoKucu4xteqi3L3RlnB5HbtMksBWaOn6AdZAHuq9RqGWXKq76GLPpM9p0prlQYqPbJErPaQPZUfLeuDCE5Km/ROFEOrW9Ci7zFMSShLJBJJWda5ehblTd/IHRsvbkL8/d9pH2zh9vV03tXrUYHQ1Q60ZlkRiziqH88hcXiDrDGxtkO/RAOv4mzzUqjHPC79dQfGbsldoqr1c3Tu0J2Nc5//EQPjO9G56yYG+k9rdcAWbH/7b9ii+CO188KX5J61DXzdh55+Ese3H8XYG0HM6bXwdk1gz2NyR0Mkd5QBgz/haPqQOUS4H5vpqQyO4ompg/Bq5TnEOhswPdKItbH34ZPvTbg9Lx4cRWVkCtvrrXUGK09ewQuBKirpbfxwYJhemt5PZUQt621o148+j60HpnExcFw0QVj7NdHvGUr/KUQMz3cIP8rd7G1kRsQRv+qTOzaMezXOUZ9fi9/SfWvPvflL2z0oNL2LrQPNWF7rHnM8H59S3uORYezuKtCFdP0h/KIDuPCvnzLG7QtGuHFHg3InnWCjEwsoht7eE/DsO4z4qSj83d3wnG9DqKofnsseDK2P4+wz2uyF8KAH7ea0g0CDccxAtOWH9Y7I0qU2Ux66tHu2HXdE7n6Ea9pzJSL3Mt2rc7S2brQg3tGatkDJ1Y/1eAChfWfRmvKGZXoOA+N55LivjiLRmno6rc58N9RSuJz0gs7ZFkfbqXboPdrH1t6f/X4Wl3SLdFObjIe+itCLdHskbEZ8NCFFVFDT3KHXXd1Ej1AYuoj+UonBPof6zo/QNuw8ghX7SznKyzNtbQh/K0/KiRTRutM49t6Evr1Nryi8AwOfm1KEW0ESURJCec6ebZcw9sFQShB1EV2XOn7svdOotLeB0zj3xk1sl+d0tm6hCbwPk/KoBj3+v5HEIwV/KPQJ9Hua/PXY4xS2nvwPvqo7Kfupgm9gCk8cGcV0j4wXkmBkFtEnSYD1NkQMc9XBBnwaMZ6YRi4wiIdjoi1R1idtrXxRSVoZOUQiilQ7ln6dIEV0FbVtPg8w7XOeYOPtMq5r1EVPtiM243nFOeL4fECOk+jXEFGxeKhtxgvaNXosV4yV0cbuZSeiJvOBOlyMd+j3GXsXK/uaC0/oWpPELvpsxt0FmdPZSL//3XGEKmjKJNE0ymIyz9+N6IPfQxPvhHDr1sNvuVaZzKldbdsXAq54lLiePklfk31rW6NNIjQRvUaTtzxOW5T69OeVKJS7H1286klEjH6iqLfca3Fw0k/NM2f1YzRe6XO+D93addb3pm/5Li6IuB/lp+I4nGqTxtaInWvvUCyUjPbF2EfQfmoRksGysISu3esIkSUaHGlTBnkD2gcqEPlsgobKGb4/00AmMm20Ovm1PCkXX4fIEiXr8lnlN66yBbtJ5ObGL6aEEniFRPKItOpo4n02iKpbFzCp6eQExsgS9XaZx2l2wPa0NoQVa55TtWadLCncKcM/ZLEQZiODmCex2KxZjjrVgQ6a/I/jtjKBeruuYC0OYZwsyTEpGClLjMT4v5qwGlasYBMeJ6H5cfRLUwSPdJhWIVk65vUqqjVM/e6hyXzkM9xyKIKT58gKpOd5XGm7OvAW1jaN0tiaI1sMqgPvk9Afx1f9w4j1UL/0TLoFfh+jWqC1v0VVE/D9lJtxK8M3d2SxqMQRvxuAR1utizJQX2W3m5zh8wYRvNyFodV+ml9q4FktD0yEyBIl62WbMrWvaUV/QwCRG1Ft3pk5fwLBihD6s1p9NJFfJsHzHLZYQL7WKFlIQsBlRQ5y9xNDiCzAYKMqRD60K/daHBarn3xQLdAa+NeTdH8Xl/cikqes4ize91Ky5DHSYBOt7JSvyahu3sVlHaoypYzeuqm4RzNxCbeVT9pk/0b0vGZuqpvXMdqq3yXCClS+UvKJxc1rQJbpsXeBg4cwn0UwhDWjfjVFdfO6YxQ/5DMZe+syWnw/xqdlqXh4u8ji7DuEaZDlWqgLdBlhTSDSvRHuFgduvCWZEBZGOco1V52wLIwyzQ+jouzQ0rgTR2qduJGuvxtBvdecbiPzcVmqhyfT/d8l8aYf8fmIo9isJZarcG3OmfQ47UcfA3NT3a/FZLH6cUSFB+roataw4o4WFrR6rwuFBRaDpRfSEcOtq2yKCzkXxXHtLsC6R3N8JWMLapWbFfHOlHvY2P7UQtNXHpBi/Mbtqt/mvjQ2q8V4FWOay5Qs08lmi8vWwOK+NLaiuDGLk228UJZpYYjYr+4Wf8JLi5GM36v8GaN5S8rgKaofW349Q3MZCkvEVi7ENUhXCFdjXi5hOXl7KlXrJ3+cWtFO+9Fd3bYtQ4zTLYvVj2smyOC6AotbPc31vsgsoZBugP91enlNZ135tYvi2n3sGXhF7PJjxSczP4RPhKt2VzYRnMelD4KY2/Z7mWy0ERu2CYvUFu8skEeeAnouFfZ6qjc/j5VkkY5nEEYTXTCEJbq93rBMG5TY2SbUanFPI65aLKhfzWWquIRz4N16FLDF9WYjb2J65CjW2ywr7XuiwnrO8l1R7bu3C7iVJ/sbNEtUuMV1yzTTAmMtHm6isVHjwIXwbRhtYtG3190X5BeTceFg2Zv5D4S4ZiYuE0sItZwXWaxNA2Gp0j8z3kbcCaNLuDaf0kWjpopWm3eHEDUWsmlJRbqrMXKlC2FlsRsLU9sVIbQ7FO/c/YhYr7AUSx37K2Y/uhs9s0tYuthTiwcZr3bthIyhd4kt0vSs3RSzCB/4CEPPZ8qi1Y+1/1PuKqSybrNm/4o/8GDGRbWM3nfkjmRpMncncO61VyyioWbT2rNxBZaMXMnkxxtx7gu5I0mdp2Xt3rJm+hqZvErsVUPLjkziw+F7hX0FJi3LVWDEKo2MXmvs0sjQNTNzhbCkZ7vqx+ndicxfrx5/085Detme9StQ2xdkzahVY3sye9bEeu8Gqf4WyKK196cnWGXOZE71q96LwD6+C/SXHZoAyqUL8wuynoquTmbSWXHivMXIJl8AISSXPXpGqVqWh3OiCRGU2JpJKhNUyxa1Z3zq1phqvVoyVEkc481Al5b8YrZtzWIlxHl5WnBO+tHu3fBKS/LK3KWFgpn9qmLNdF24n+yil34v9vFV453WY+Law/MenKi0Ze1+t9BY2u+FnqOxBUOj1nFbTBYQUkbFzMi1CV7J0P+y0f5Hk/jfH3L9UYbli5n5my56DE0J52gi3QeEbuThQVkixv/+EHbeTOJG3728xIJhHnSWPEbKZIMs0b4kjp0pw94Rfk0PJjGyCMhOeKkF/mUuojP0Gdx5BrjAIsowafAMvay5h6PDSeCtMv7fXx4w9CQ5P4LHokicyc8duPiswOm3gA+Hi/xHGBjmAYFduwzDMAzjArZIGYZhGMYFLKQMwzAM4wIWUoZhGIZxAQspwzAMw7iAhZRhGIZhXMBCyjAMwzAuYCFlGIZhGBewkDIMwzCMC1hIGYZhGMYFLKQMwzAMUzDA/wE9VEAftpEg3AAAAABJRU5ErkJggg==)"
      ],
      "metadata": {
        "id": "AZmSjBaDuQYF"
      }
    },
    {
      "cell_type": "markdown",
      "source": [
        "![image.png](data:image/png;base64,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)"
      ],
      "metadata": {
        "id": "ZCbk2Vy7uQKI"
      }
    },
    {
      "cell_type": "markdown",
      "source": [
        "![image.png](data:image/png;base64,iVBORw0KGgoAAAANSUhEUgAAAb0AAAAgCAYAAACGoaZtAAAAAXNSR0IArs4c6QAAAARnQU1BAACxjwv8YQUAAAAJcEhZcwAADsMAAA7DAcdvqGQAAA2DSURBVHhe7Z1tSFxXGsf/2i8xZXG7okaKdlLyQdo0rgoOLSSdvCy1TZvRJY3SQLWUzSq7iUhI3W1BBqHdtUHEZhdtS9mJkEVD2ThL7fohidOEbhhB3WSzxQ8lmUZKoiIhLFvzpXGfc+65c88dZ5w7Mxo18/zgkHPfzrnn3Ov5n+d5zp1kLSwsLIJhGIZhMoBs9S/DMAzDPPKw6DEMwzAZA4sewzAMkzGw6DEMwzAZA4sewzAMkzGw6DEMwzAZA4sewzAMkzGw6DEMwzAZA4sewzAMkzGw6G0EZrNx+IXHMKY2Gebhk42TL2Tj7KzaZJgNiiPRC3V3IqfISp0T6oDCPB69H7iGTu26nO5raj/jHBpsarKA9xZRpfbozAaO4POSEoxOqh0blclTsh1m2vDtUUz1iPYcQei22rFKrEg9t4fwhej/niV/yMQDvPke8HbNozr5CqGzMwedV9XmqvGw6tng3BlEPfVTDqX68zO0YwaDfZ3Ue+mTUPRmhvrg+fApBG+3YUGltgp1MCE70KauCb6jdjFJQDPr41noOLyIM/sfqH12CkqeU7kNTvlRHLx1i9IQ8tSu1UJOFJqHkJ7RMoFRB+L8M1e1yq0uK1JPUQkeV9lYFNI7eOEwsPd4Ng1BqSIGr3oM3jHzyQlAaFAMhOb1iqs0oY4MjsyjwMz1cyivXsBCWxDl4y56vi40PuGBWx1PhwSiN4vgl/fg7d2zbGXu1mTFkHHEtSy8fWURn70eW/AsqrF5i8oy65DnkFuksqvKytSzyVWsckupen0RB65koT9lp00Y4Xsqa8s7x5sLnLtuCVxoalLuYx4dCvcNoK1M5NxoaxPiR6luJSTPoXuTWQvIyjtN/9DM+lCBsYdh1pyCB2ihd7LjdDrWXjlckUmaF65ClXVI+bZa4Nugqj+E4N1a1D4hNxgmIbH/a6GJAeTs/05tRPFaBcKf/ALiPRWuT1ezOVXLhX+iCXVxZpoi7ufBy1ho3aH2WNjLoT+D3rcwULMWI/08Lv9xD0Zvqk0iv+4imvcYDre5i79F79heNB+4gd6efrkP2IndH/wJOzWfnDxv8LLaspeBb7rQ0UNC9sHTGH3XhzljL0pbruLQM2pDIhYOZAF9P+LE0i5ziHDB1VCrTE5g+62jKJX5OYSaKzE9XI3i0Cdwq+cmXH+Xjo4gL3ALu8vt+0w2nRrHq958yhll/HBkiB6aUU9eQM8bZcjrR17BriPTuOQ9KYog7PVaGPcMrf4IIubkPob7ajN+GbERca/rXWojCvNezXP09st4I923bHfV11H3oLH/I+zqrcH6m6NEvwfJ9dsSrj2GnzQBF/75Y8w4c2yEK9OFxniWXa4f4aY6Oa7Exygj/HwYristQM0A6mY6UT/XiNZ5F40vQcsaEC7PEZ+Rl/gQbGuzeayEq9QTVhsKX/WCsjAIEVc63YiA2hQC7W+gOpP0qiSsR8b5PHSHJkvv1QnR9XgrwxjYp3pU9gcQbHChW2uT/T6oh8/XwzWutXhJGXSXLq2fzXu3Pb/o9sTqt+hzlt7Lsu0RpPh8Ylt6FfUqfvcW/K9RUSRCZjxvQQmeoLCmydg3UUHVpYYheD/VYoYvo7z5L6gfch5xCf0hBzk5sVI9Br9XJyVECV5JP9o/vmqkD+iRDO5B70VruMBNHwkeiZY659CLlzH66bmIeBmCtzVyvP3jfuRFl4F+nH33Bnarc5rrdtJg24UpdVRCzf8XFvFUym5LY6D7Hw3URqzsFnad+jeul5xS9eTD3XsL24+PYLpDxbdocI8teM+RWBpliJjb40cr8UXAbDH1nLcPm0OiLJE3BEvmL2kLIoaPkeAhUo6tXicowXucyrbaA0y7nS/eKG0xr6s2BEqVI5LZXnGOOD7vVf0k6jUFTwh9UQ1eldcYsUfRV2YZB9el4ImJydcoMu+Rkux7t/kepMCWRRygdzOcVFC0EHVNC1iopr8pMUAKd5XIywGe8gkFT6cQnm2Gi1O4Nmu3R10pB+dJGgCVW4xS0OWDp9NaCCEH1LvqPmQK2gZgc0A14kpGClcCjaej4okJSFiPGvwnaUC36pm03asThFgFS617FX0bGHdFxUupD06H0RqpxwvfiFWPIXjlxvOQyYinRWKlZTQ+N/jhDXtUuWISEi14Yl8QnkgZou8D1G9ae+QiFbpOiKd2XrT4LtueNJ7PGrs3r8FPFp5vuF6b1exAY28uAl9eVe6LxLh/T41eiJVI9Z9UJyXiGz9ZeGS1vaT1fF4tDpIgzY1dioga8CYJ2nFlLdEg+ZIP+TcvYEpq2lWMkoVX2mIdpzcFu5eUIaxD65z8LVtVTuNOFv6usqkwG+jDPA3sVdIiMyjwNtFAfRK3tcUXpS3jKMYxjJGFNqoG94iFQ8L5HymCpnUoqMCzJAr3R762BOt4k2U1HB/SrtfRrUyq99BH2DT8JW46FKyps2RdUXue1cou8L6P4v0j1LdWz64EBd5PSBhO4nrPEEIdVC+1ybBsNyJicqM/P+r7XSdULh2y8F0Sg7/JzBy9fE+45AAp87kuuIxDSVG4Xbg4W9B9txYemhi68sxpNw26V0hWXK22Gb+7TogNCawYNGnA7A6TVVATX2hDX5EFQYN5ozYcFO7rgT83YIsnLouDembOd0vR6NEsmMJ9rda9OsSKgSnK7FaUgbCELAuyMF//Qw3BTxaer1q3MN1oJGEMRFzJxJY6DJAACbEcPN9Cljvdp23CIiY3divVXRol86pvw8vE6BK1J53nsy5ier79NDPTPm3QXZ0Pl63Ij7V08OYNzTUUi8u4rfXzVE8ZOn5tJd3V6Rg5m04TYV1pnwF8bnNxmdCg2P4RcPQY5uMM7vNevYwSm6szPUbwQzIDZ2lJTEvqfnha5VaO0hay5LqOYRpkEbZs7BVacrWq9vyEqzZ9kvRCqBWW0nVGlkIkf68RLscrL7WFL1s8qBWOrW0ea8C9G44Mzt682FI6OUdnzITpSj2uGAclztEE5qN8lfFwWo/qA9EnRoolWAmQ1lOaZRC+Eb0M9YyiIYtPWM6N47CJqImw0vQy7G5mRZy+jeCkPSk+n/UhesOma1NLmhs1ESvj3lyGrU8nWEa/E0XazYr4XMRFaqbf1ZK8JAGN7j9PcTYdIcqFZya7JTaBUek2JItvqsbmtjSxufDMtCKuvJVZdbrcasPUEC5BwzW8vZQmDjG/W9sgSJc1UBzSnl0gTUtPeiGy4ErmBRCusTbh6jJiM9F5W6zGEYa7NNnryvPp/EIX2TyTCKf4txVPUJfgtB5h9SgXnZ5sls6yhNB5uhHQXKRL3ajOEHE1/R5kinI9C1GTLtvqcrvbUkCTG5cUQ+166cZOhvTak+j5rLHo7YDnHWHpDdg7LklWxL35zD6UiljbXzWfwvw5fC7clQfiCdY8Ln/qw9yLv1ILWcqw40Vh6UXF51LkqeeBjsupPaKCqlewiSy9sRgiZmEM7sLC211uWnyV2rdnFSiScbo04j8xoXql21BziyZAuuS6amzfxc0G3sP08Alsi7JOI5ZNnG/x5LeNy7hWp3oqpYUnXMOGxRdrMlCMzfuj4pap8D3NaMUE7fCgY3d+etAkJ01Lb0w4Lg7H/rGE5ZlB+K7K2vLJkGi1p4j3eREYb7HFdkKDZCmY7rAtLrK/dDfY0kUV0iUXiV0ZzCh3XqtToXVQj3DTesnSa1nhbwxle1XeGW54SCv0GF9MTFETLltl8Xn6lnt3qc1Rlp7Zt8l8VxndnnSeTxqiN4vBI8olWTFBj/YeGiuM7cgiFLEKVLksPR/S9of/UNuWyIlv/ILvfAePOs9MySxkWRnKcOjjfpR+9ablmnzXh7wlqypJGCOuyz24XnUR7W9YU7LSN8TiFv0cI9kXsjjhAQ410D9nkNpPP4kFFyFDxGyurchCFrHQRazePIHtpvuOrqmSizhKIoO8WNgh41u2MqzjztHLqMRc9TgOam5D4xdFRDJcsBGXqmlliY/XyULRXa3GAht7vMoRVJaxmMMqyxBTMQkQqzerUdxuWrIV2E313hf9aLP4jEnCJhJEs4yUPnh/UgyMxN8a4V+Nnzopr5dxT6utfdgcoPtWh5MnG1/RO9m+M9G3o/GR1pZCzyfkTpjspsSIeJCxqIEmE8o9Ji2TiMXiRluDH5AfPYvj3XA1hOHXv/UTlqmMXVlluOQij2RWVTqoR8TIbOeYKZmFLCr2ppXRnRe01+MAd5254Ee/D8v1LN2WJGDeyp5IvFTGSqV7Vt1vGb3HuWLhink9tbnab1/oqPpWv1+RLAFz0J40nk/sTxaYmFgrM/WFKquJ8Yssbz+9iP/+JvVBZq2xVoCmIFAZwMzZehoMafb8bRKeiTVi7M+PYe+NRXzb9cBx+IFhYiJXYJ5DbQqfgaTDuojpMfEga69rEe1nsnB4mB/Vo0kI/oYA8MtaeNa54M3QO7iXrLwLLHjMCiB+aiyQa6y+fZjwSLrueYATQ2SMv5/F/8vCI4axAMsDX3sQC2fiL2tfH2Sj/33gs6FkPkhnmPgIN3Ry32euDOzeZBiGYTIGtvQYhmGYjIFFj2EYhskYWPQYhmGYjIFFj2EYhskYWPQYhmGYjIFFj2EYhskQgP8DudDTz+IWws0AAAAASUVORK5CYII=)"
      ],
      "metadata": {
        "id": "HFZ2GkcbuQAm"
      }
    },
    {
      "cell_type": "markdown",
      "source": [
        "### Criar e escrever"
      ],
      "metadata": {
        "id": "GtQ2WJZYByBq"
      }
    },
    {
      "cell_type": "code",
      "source": [
        "file = open('exemplo.txt', 'w')  # Modo de escrita"
      ],
      "metadata": {
        "id": "APkUusS52VJe"
      },
      "execution_count": null,
      "outputs": []
    },
    {
      "cell_type": "code",
      "source": [
        "file = open('exemplo.txt', 'w')\n",
        "file.write(\"Olá, mundo!\\n\")\n",
        "file.write(\"Este é um exemplo de escrita em arquivo.\")\n"
      ],
      "metadata": {
        "id": "ER_vju5p23og",
        "colab": {
          "base_uri": "https://localhost:8080/"
        },
        "outputId": "22172e93-9dcc-48e9-b376-78ab10dcbba7"
      },
      "execution_count": null,
      "outputs": [
        {
          "output_type": "execute_result",
          "data": {
            "text/plain": [
              "40"
            ]
          },
          "metadata": {},
          "execution_count": 3
        }
      ]
    },
    {
      "cell_type": "code",
      "source": [
        "open('exemplo.txt', 'a')\n",
        "file.write(\"\\nEsta linha foi adicionada posteriormente.\")"
      ],
      "metadata": {
        "id": "JXmm6VuEHO6l",
        "colab": {
          "base_uri": "https://localhost:8080/"
        },
        "outputId": "dac2f7dc-e1ba-430d-c791-a86132d928be"
      },
      "execution_count": null,
      "outputs": [
        {
          "output_type": "execute_result",
          "data": {
            "text/plain": [
              "42"
            ]
          },
          "metadata": {},
          "execution_count": 9
        }
      ]
    },
    {
      "cell_type": "code",
      "source": [
        "with open('exemplo.txt', 'w') as file:\n",
        "    file.write(\"Olá, mundo!\\n\")\n",
        "    file.write(\"Este é um exemplo de escrita em arquivo2.\")\n"
      ],
      "metadata": {
        "id": "-qxAVQ_2HAwt"
      },
      "execution_count": null,
      "outputs": []
    },
    {
      "cell_type": "code",
      "source": [
        "with open('exemplo.txt', 'a') as file:\n",
        "    file.write(\"\\nEsta linha foi adicionada posteriormente.\")\n"
      ],
      "metadata": {
        "id": "_qr1HxpfHC91"
      },
      "execution_count": null,
      "outputs": []
    },
    {
      "cell_type": "markdown",
      "source": [
        "###Leitura"
      ],
      "metadata": {
        "id": "zmKABX0uEfhk"
      }
    },
    {
      "cell_type": "code",
      "execution_count": null,
      "metadata": {
        "id": "IRqSQd182GXj"
      },
      "outputs": [],
      "source": [
        "file = open('exemplo.txt', 'r')  # Modo de leitura\n",
        "\n"
      ]
    },
    {
      "cell_type": "code",
      "source": [
        "file = open('exemplo.txt', 'r')\n",
        "conteudo = file.read()\n",
        "print(conteudo)\n",
        "file.close()\n"
      ],
      "metadata": {
        "id": "HWFliuMpEZXs",
        "colab": {
          "base_uri": "https://localhost:8080/"
        },
        "outputId": "3f664210-b562-4ba6-89bc-46a782000862"
      },
      "execution_count": null,
      "outputs": [
        {
          "output_type": "stream",
          "name": "stdout",
          "text": [
            "Olá, mundo!\n",
            "Este é um exemplo de escrita em arquivo2.\n",
            "Esta linha foi adicionada posteriormente.\n"
          ]
        }
      ]
    },
    {
      "cell_type": "code",
      "source": [
        "with open('exemplo.txt', 'r') as file:\n",
        "    conteudo = file.read()\n",
        "    print(conteudo)"
      ],
      "metadata": {
        "id": "FhV8RQwFH59l",
        "colab": {
          "base_uri": "https://localhost:8080/"
        },
        "outputId": "0cbc7520-0e04-417a-96cd-25a3bd0b3603"
      },
      "execution_count": null,
      "outputs": [
        {
          "output_type": "stream",
          "name": "stdout",
          "text": [
            "Olá, mundo!\n",
            "Este é um exemplo de escrita em arquivo2.\n",
            "Esta linha foi adicionada posteriormente.\n"
          ]
        }
      ]
    },
    {
      "cell_type": "code",
      "source": [
        "try:\n",
        "    with open('exemplo.txt', 'r') as file:\n",
        "        conteudo = file.read()\n",
        "        print(conteudo)\n",
        "except FileNotFoundError:\n",
        "    print(\"Arquivo não encontrado.\")\n"
      ],
      "metadata": {
        "id": "xMdMDZPXH-2V",
        "colab": {
          "base_uri": "https://localhost:8080/"
        },
        "outputId": "4526b59f-1efd-4ab1-a61a-6eaf04bd2336"
      },
      "execution_count": null,
      "outputs": [
        {
          "output_type": "stream",
          "name": "stdout",
          "text": [
            "Olá, mundo!\n",
            "Este é um exemplo de escrita em arquivo2.\n",
            "Esta linha foi adicionada posteriormente.\n"
          ]
        }
      ]
    },
    {
      "cell_type": "markdown",
      "source": [
        "###Exemplos\n"
      ],
      "metadata": {
        "id": "5ULqizDnjtGh"
      }
    },
    {
      "cell_type": "code",
      "source": [
        "# Adiciona um nome ao arquivo\n",
        "def adicionar_nome(nome):\n",
        "    with open('nomes.txt', 'a') as file:\n",
        "        file.write(nome + '\\n')\n",
        "\n",
        "# Loop para inserir nomes\n",
        "while True:\n",
        "    nome = input(\"Digite um nome (ou 'sair' para terminar): \")\n",
        "    if nome.lower() == 'sair':\n",
        "        break\n",
        "    adicionar_nome(nome)\n"
      ],
      "metadata": {
        "id": "PRTEmQYWJMQU",
        "colab": {
          "base_uri": "https://localhost:8080/"
        },
        "outputId": "c07cc5ce-3560-4195-fcf8-fa028bb3d44f"
      },
      "execution_count": null,
      "outputs": [
        {
          "name": "stdout",
          "output_type": "stream",
          "text": [
            "Digite um nome (ou 'sair' para terminar): João\n",
            "Digite um nome (ou 'sair' para terminar): Lucas\n",
            "Digite um nome (ou 'sair' para terminar): Luiz\n",
            "Digite um nome (ou 'sair' para terminar): sair\n"
          ]
        }
      ]
    },
    {
      "cell_type": "code",
      "source": [
        "import json\n",
        "\n",
        "# Função para adicionar um contato ao arquivo\n",
        "def adicionar_contato(nome, telefone):\n",
        "    contato = {\"nome\": nome, \"telefone\": telefone}\n",
        "    with open('contatos.json', 'a') as file:\n",
        "        json.dump(contato, file)\n",
        "        file.write('\\n')\n",
        "\n",
        "# Loop para inserir contatos\n",
        "while True:\n",
        "    nome = input(\"Digite o nome do contato (ou 'sair' para terminar): \")\n",
        "    if nome.lower() == 'sair':\n",
        "        break\n",
        "    telefone = input(\"Digite o telefone do contato: \")\n",
        "    adicionar_contato(nome, telefone)\n"
      ],
      "metadata": {
        "id": "FhkIMA2FN5QO",
        "colab": {
          "base_uri": "https://localhost:8080/"
        },
        "outputId": "7e8d8b63-c3b4-448f-da85-0d5f5f2fd6a7"
      },
      "execution_count": null,
      "outputs": [
        {
          "name": "stdout",
          "output_type": "stream",
          "text": [
            "Digite o nome do contato (ou 'sair' para terminar): Lucas\n",
            "Digite o telefone do contato: /n564545\n",
            "Digite o nome do contato (ou 'sair' para terminar): sair\n"
          ]
        }
      ]
    },
    {
      "cell_type": "code",
      "source": [
        "import json\n",
        "\n",
        "# Função para carregar usuários do arquivo\n",
        "def carregar_usuarios():\n",
        "    with open('/content/usuarios.txt', 'r', encoding='utf-8-sig') as file:  # Use utf-8-sig encoding\n",
        "        return json.load(file)\n",
        "\n",
        "# Função para verificar login\n",
        "def verificar_login(username, password, usuarios):\n",
        "    for usuario in usuarios:\n",
        "        if usuario[\"username\"] == username and usuario[\"password\"] == password:\n",
        "            return True\n",
        "    return False\n",
        "\n",
        "# Carregar usuários do arquivo\n",
        "usuarios = carregar_usuarios()\n",
        "\n",
        "# Loop de login\n",
        "while True:\n",
        "    print(\"Sistema de Login\")\n",
        "    username = input(\"Digite o nome de usuário (ou 'sair' para terminar): \")\n",
        "    if username.lower() == 'sair':\n",
        "        break\n",
        "    password = input(\"Digite a senha: \")\n",
        "\n",
        "    if verificar_login(username, password, usuarios):\n",
        "        print(\"Login bem-sucedido!\")\n",
        "        break\n",
        "    else:\n",
        "        print(\"Nome de usuário ou senha incorretos. Tente novamente.\")"
      ],
      "metadata": {
        "colab": {
          "base_uri": "https://localhost:8080/"
        },
        "id": "6zEv0C8i_4k_",
        "outputId": "7c9571b7-3bb6-4512-d190-4ce62e8dfe8a"
      },
      "execution_count": null,
      "outputs": [
        {
          "name": "stdout",
          "output_type": "stream",
          "text": [
            "Sistema de Login\n",
            "Digite o nome de usuário (ou 'sair' para terminar): Lucas\n",
            "Digite a senha: sdgf\n",
            "Nome de usuário ou senha incorretos. Tente novamente.\n",
            "Sistema de Login\n",
            "Digite o nome de usuário (ou 'sair' para terminar): sair\n"
          ]
        }
      ]
    },
    {
      "cell_type": "markdown",
      "source": [
        "### Exercícios"
      ],
      "metadata": {
        "id": "A6Em48Y1k08y"
      }
    },
    {
      "cell_type": "markdown",
      "source": [
        "Exercício 1\n",
        "\n",
        "Você é responsável por registrar a presença de alunos em uma aula. Crie um programa que permita inserir o nome de um aluno presente e salve esses nomes em um arquivo. O programa deve parar de registrar quando o usuário digitar \"sair\".\n",
        "\n",
        "Instruções:\n",
        "Implemente um script que:\n",
        " - Peça ao usuário para digitar o nome de um aluno.\n",
        " - Adicione o nome ao arquivo presenca.txt.\n",
        " - Termine quando o usuário digitar \"sair\".\n",
        "\n"
      ],
      "metadata": {
        "id": "rrQnFF1bk3rh"
      }
    },
    {
      "cell_type": "markdown",
      "source": [
        "![image.png](data:image/png;base64,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)"
      ],
      "metadata": {
        "id": "FWYIQv73lqQ-"
      }
    },
    {
      "cell_type": "markdown",
      "source": [
        "![image.png](data:image/png;base64,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)"
      ],
      "metadata": {
        "id": "Zl_hGy3Els-d"
      }
    },
    {
      "cell_type": "code",
      "source": [
        "def adicionar_nome(nome):\n",
        "    with open('presenca.txt', 'a') as file:\n",
        "        file.write(nome + '\\n')\n",
        "\n",
        "while True:\n",
        "    nome = input(\"Digite um nome (ou 'sair' para terminar): \")\n",
        "    if nome.lower() == 'sair':\n",
        "        break\n",
        "    adicionar_nome(nome)"
      ],
      "metadata": {
        "colab": {
          "base_uri": "https://localhost:8080/"
        },
        "id": "cJXw2pYkAxsQ",
        "outputId": "31fc1815-e1c4-4163-9799-690c56dabce0"
      },
      "execution_count": null,
      "outputs": [
        {
          "name": "stdout",
          "output_type": "stream",
          "text": [
            "Digite um nome (ou 'sair' para terminar): Lucas\n",
            "Digite um nome (ou 'sair' para terminar): Luiz\n",
            "Digite um nome (ou 'sair' para terminar): sair\n"
          ]
        }
      ]
    },
    {
      "cell_type": "markdown",
      "source": [
        "Exercício 2\n",
        "\n",
        "\n",
        "Você é responsável por registrar as tarefas diárias em um arquivo. Crie um programa que permita inserir uma tarefa e salve essas tarefas em um arquivo. O programa deve parar de registrar quando o usuário digitar \"sair\".\n",
        "\n",
        "Instruções:\n",
        "Implemente um script que:\n",
        " - Peça ao usuário para digitar uma tarefa.\n",
        " - Adicione a tarefa ao arquivo tarefas.txt.\n",
        " - Termine quando o usuário digitar \"sair\"."
      ],
      "metadata": {
        "id": "UxB44L_9l8Pu"
      }
    },
    {
      "cell_type": "markdown",
      "source": [
        "![image.png](data:image/png;base64,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)"
      ],
      "metadata": {
        "id": "aYOqZEsymRut"
      }
    },
    {
      "cell_type": "markdown",
      "source": [
        "![image.png](data:image/png;base64,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)"
      ],
      "metadata": {
        "id": "WRgLYQ_DmSv6"
      }
    },
    {
      "cell_type": "code",
      "source": [
        "def adicionar_nome(nome):\n",
        "    with open('taredas.txt', 'a') as file:\n",
        "        file.write(nome + '\\n')\n",
        "\n",
        "while True:\n",
        "    nome = input(\"Digite uma tarefa (ou 'sair' para terminar): \")\n",
        "    if nome.lower() == 'sair':\n",
        "        break\n",
        "    adicionar_nome(nome)"
      ],
      "metadata": {
        "colab": {
          "base_uri": "https://localhost:8080/"
        },
        "id": "tim3I7n-Br7g",
        "outputId": "5af72738-018f-4f5b-bdba-44a1576b0a83"
      },
      "execution_count": null,
      "outputs": [
        {
          "name": "stdout",
          "output_type": "stream",
          "text": [
            "Digite uma tarefa (ou 'sair' para terminar): lavar o carro\n",
            "Digite uma tarefa (ou 'sair' para terminar): limpar a casa\n",
            "Digite uma tarefa (ou 'sair' para terminar): estudar\n",
            "Digite uma tarefa (ou 'sair' para terminar): jogar \n",
            "Digite uma tarefa (ou 'sair' para terminar): sair\n"
          ]
        }
      ]
    },
    {
      "cell_type": "markdown",
      "source": [
        "Exercício 3\n",
        "\n",
        "Você é responsável por manter uma lista de contatos e precisa criar um programa que permita ao usuário consultar se um determinado contato está presente na lista.\n",
        "\n",
        "mplemente um script que:\n",
        "\n",
        " - Peça ao usuário para digitar um nome.\n",
        " - Verifique se o nome está no arquivo contatos.txt.\n",
        " - Informe ao usuário se o contato foi encontrado ou não.\n",
        " - Termine quando o usuário digitar \"sair\"."
      ],
      "metadata": {
        "id": "Fja7OfE2m864"
      }
    },
    {
      "cell_type": "markdown",
      "source": [
        "![image.png](data:image/png;base64,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)"
      ],
      "metadata": {
        "id": "-ia7yp4knNXH"
      }
    },
    {
      "cell_type": "markdown",
      "source": [
        "![image.png](data:image/png;base64,iVBORw0KGgoAAAANSUhEUgAAAdgAAAEICAYAAAD85+W2AAAAAXNSR0IArs4c6QAAAARnQU1BAACxjwv8YQUAAAAJcEhZcwAADsMAAA7DAcdvqGQAACF5SURBVHhe7d0NcFxl3ffxXwsFW9Dy0jRAtKxSwNASrUWiMJgdWnlEYdZGTRuKNIA3RSF3rY50eDp33Mno1PaWKTX4wj22pryYpqOpoSKIpGz0QUgF27tQo7TVBa2YbhVQaIRC+5z/2bObs3lps2lOuyf5fpjTnLc9ZxOd/PK/ruvsNeagQwAwaG/oqXsX6Oo/Jp31E1R5UZO+/Ymz3CP/fKpB8x/8oZ5y1ief9n+18ZarNWWsewghceDAAW3cuFEPPPCATjrpJN16660677zzvKPDZ8eOHe7Xc8891/06nN544w099NBDevDBB/Xmm296e6Xjjz9en/jEJ3TllVfqhBNO8PYe2uOPP657771X119/vcrLy729Und3t+68806deuqpuvnmm/XCCy9o5cqV+sxnPqNLLrnEPYeABTAEvUN2rZYVbxz14bpv3z7t2bNH+/fv9/YMn3Hjxmny5MmaMGGCtyc4FrJtbW06++yzAwlXE2TAGou29vZ2/fCHP3RD1sL1mmuuUUVFhcaMGeOddXj22sbGRm3ZskVXXHGFG54Wro899pieeOIJXXXVVe7y1ltvae3atXr66adVVVWlsrIyAhbAUPlDtkfBheuB/U7wSRNOHuftCE4ymVRRUZFb+Q231157TalUSpFIxNsTbkEHrLFwXL16tTo6Otzq88Ybb3SDNl9WEW/atEm/+MUv9NJLL2ns2LEqLi52g9Wua9vG7vfwww/rkUce0auvvkrAAjgSuSF7TML1xZ9q6dIWvehtjptUpqv/4yZdda5X6T3zAy1cM0G3rZyrc9J7AmOhEWRgBH39o+loBKyxptvvfve7+vznP68pU6Z4e48OekcAHIETdNFn12rjeyLHuHKdqVvWrNGaNXdrxYIz9dTyuJp3eYcuvF53H4VwRWE644wzdNlll7lfjzYCFsARspBt0v8WRLPwOE2cNleLqybo5w8+Kbcn1K1wf+pVuPu07d6lWvi5G3TD5xZq6b3bnD2efbvU/PWFuuEG59jnl+q+Z7JH9MrW+7T0887+GxZq8cqfalfPIRQ4G8x0/vnnD3pQ03AiYAEMjwL6bTLxwot05rZt6vS2s5ygvPP3M7X0u061e8ctmvrM/6h5ux3Yrye//3Vte+9S3f39Nbr79pnaedf/6MnXnUNOQK+4a6dm3n631nx/hW4qfkJf/74X3giF008/3Vs7ughYACPTgf19Q3DcOE341wt6/sV92j+xTNevuEvXT3P2H3haT28t08eumqJxzm/FcVMqtfSOmzRznJOvT/5Sr1w2V5VTnI2xE1X6qY+pbOuT6fBFKJxyyine2tFFwAIYmcaOU59xw9OuVXzeJP3yrsVa6G8i7tqrvzpnTzjRPcs17uQJbtj+9W97NfE03y/oE539SumVf3jbwAAIWAAjzivPPKUXy8pU6m33GKdJl1yrpSvu1ppvL9XM39+p+7Y6u888U2c59e4+X1W6/1Wnyj0gnXXGJO17zdfp+rqzX0VO6HrbwAB4TAdAuLmDmJ5X5ZpbNNOJvle2t2jlyqdVevsKzbWhw3b8LunWr1+l/etv04o9V+vrCy/TRL2glnhcez+zRje9f7+e/NZCbSyJKz5nirT351rxX9v04RVf0eX7nNf/11OaWbdUle/cp851K/Tfe6/W3f/5oT4Vsj168vjL29z1cceN04GDB3Tc2ON0/JjjtG9/t7s/4+0nnuQcP+ieM/6Et+kfr73s7j99wqn61xuv6Y0339BJJ0xwl7Fjx+iEscfrXU6w85hOeBCwAMKt93OwJTNVed31+j+Z52B9AXvmgRe1adVKNW/f60TxOJ1ZcYuWfrZM7pk2injlCv18137pxDN1+ReW6toL09ewUcQr7t6kF18fp4kXXq1bF16lc/r5QCULjf/38v+668c7gegP2O43/+3uz7CAfevAgWzAvrTvFXf/aRNO0atOlfzGW29owrjxOtk5zz546EQnsKdoMgEbIgQsAAwTC41MYPT+1dr74/kGOp7Zb9v+deO/PgoffbAAMEzs84LtIw2NhaJ/6W2g4/5t/7pd166P8KCCBYBhMlI+7B/Dg4AFACAANBEDABAAAhYAgACMee6552giBgBgmI15/vnnhxSw1nVrk9DaZLb9+cY3vuGtAQAw+oy1KXzyXWw0m30FAAD9G3viiScqn8WC1b7yPBYAAAMbUgWbWQAAQP/GWiWa73L88ce7CwAA6N/Y4447TkNdAABA/8Y67J8hLQAAoH9jMx8mPZjF9N4GAAB95VWGEqoAAAxO3u28FrLWPMwgJwAABkZHKgAAASBgAQAIAAELAEAACFgAAAJAwAIAEAAC9hBeeuklfeUrX9GyZcvU3d3t7T28P/7xj7rlllv0ve99z9sTHLuH3cvuOVgPPPCAbrjhBj399NPenvy8+eabuueee/TII4+40xYO5LnnntO3vvUtvfrqq94eABg9CFjk7ZVXXnED/Uc/+tGAIWvhetddd2nnzp3629/+5u0FgNFjjPPLcUgTrpsdO3YcswnX//rXv+oHP/iB/vSnP7nP5ZaVlenaa6/VKaec4h63yeCtUvvlL3/pVlCnnnqqKisr9eEPf9g93wLijjvu0Pnnn6/JkycrkUi4ldkHPvAB1dTU6NFHH9VPfvIT91oZVinOnDnTvV5zc7N+85vfaP/+/TrjjDM0f/58XXDBBW5FuXnzZu8V0vjx4/XlL39Z73nPe9z3et999+n555/Pvufq6mqdfvrp7rl2/4cfftgNLbvHySefrCuuuEIf+9jH+jx3nHn//sr64osvdq9pP5f3v//9uvnmm939a9as0ZNPPqlYLKZf/epX+vvf/+7uN+eee66++MUvuu8zH3aNhoYG93+HT33qU+77zHwQSSZcza233qrzzjvPXQeA0eS4uMNbz9s//vEPbdmyxdvKNXv2bG9t+P35z3/WN7/5Tff+06dPd8Pz2WefVWdnpy666CI3vNauXavHHntM73rXu9wQtebeX//6125Q2S98237iiSf0l7/8Rfv27VNpaan7ddeuXe5UfBa0Z511lhuKdv2qqqpsUHz729/WM888o0suucQ9z+69detWTZs2TVOmTNGkSZPcAIxEIm742NcXXnhBq1at0muvveaG3zve8Q73ddu2bXO3J0yYoJ/97GfasGGDG3of//jHtWfPHnV0dLgzGPUOKdv3zne+0/0+7JpXX321G7AW8vaef//732vq1KluUNs17X3Z92CvOXDggBuMH/3oR/WRj3xExcXF7s8sH/Z+L7zwQvdnbn9Q2BzB55xzjvtHF+EKACENWKss7Rf5dddd54aGVaUWjvZeLFQscFpaWtyg+tKXvuQGj4WYheDu3bvdELbKzwLWzlmyZIl7jgXEU0895Ybw5ZdfrtNOO809x6piq34tFC2AH3roIb3vfe/T5z73OTe8rVq2wLVK9EMf+pAbflYxWrBa1WgzD1nFa2G+cOFCXXXVVe57NtYPavexPwSs4rbws2CyoLTAtu/z9ddfd+/nr2Ltj4CSkhL97ne/UyqV0ic/+Un3e7d72fu1YLaAtqC145/97Gd19tln68wzz9SLL77o7r/yyivd6+Ybrhm9Q9au++CDD7rHCFcAo13o+mAtGK36srDL/AK3pkmrFK2q9YfSjBkzshPDWzOwNdPaHwUWBBlvf/vbs+dkmjgtoC00+/Pe977XbQb+whe+kD3fqkPz1ltvuV97syrSmoUz78HYay2crGn2D3/4gxuMVjG//PLLuvfee91m1okTJ6qurs4NK6sQB8veowW4hagFsDVrW2AHwf6oqK2tdatgC3VDuAJAiAc5WTWXCUZj69aUa18zQWfbfhYCFpwWoEfCgutrX/uabrrpJnc0rjUZH4pVpdbVbX2qVt1mWIC+7W1vc9+P9eVaNV5RUeFWhNaHbSFu/ZwWuvmw8LZK2kLZ7nfZZZf16cMdTtYfawOfzL///W+3ifoIuvYBYEQIbcDagKCBqszMZPDWP+nX1dXlHvMHc76sb9VC75///KcWLVrkDjRasGCBd7R/1gRroWeVrAVphoWSBZK9H3tfFrbW7P2d73xHX/3qV90K3Jq177///gGr4/7Yz8b6n62Kt/vZwKmBflZHyj+gyZrMrQr/8Y9/fNhHeABgpAtdwFqTqv0St7Cy/lBjv8jXr1+vG2+80e2HtX5Vq95sAFEmWKw/0sKxqKgo26Q7FFZdWjO1NcFac7RVyYcLEqtcrf/T+kKTyaS7z15j/bZ2LRuo9a9//Uv19fXuc6MWinb+Nddc4/bPWpjnE5DWLGx9uzai+IMf/KD7ngfqKz8SvUcL26Avay4mZAEgpIOcrN/PBiNZiFho2gAbG1RkA4VsAJGFqAXqb3/7WzdcrEl348aN7vu1x0kseDKjiK3Z2AY9mcw+69+1JlYLB7uuDYyyAUp27kknneQ+nmMjmW1ksD32YtWiNQNb36cNerImX3udPf9pi70vW+z92mKvs8eHHn/8cfean/70p92BSda0ate211j1aY8K2fdnfbXWj2rb9qEXVhFn+ji3b9/uPmtq78eqXPve7bEcq4yvv/56d3S0/azs2vZ9WpVs51q42/uwgH/3u9+drfoHa6BHcQYaXZzprwaA0SKUAWt9lxaSFj42QMgqQ9u2PlELRwsgqwot9Kyas/MsWKwitNHB9st+MAFrlaetWxjZwCq7h4WHPYZjAWKhZfeyR12smrYwsWvZ+7Nwtntb/6RVkTa4yQLYzrPX2s/ORvDae7Y/GOw6VhHbe7Y/DCycrKq1PlkLYOtLtWC0R3tsRHRmsJSNJLafgQ2isgFb1uxsjyNdeuml7mvt/dt1rKnZfgb2B4CNJLbzrZq2n4WNoM6njzbzyJHpb0CTP2Qt3G1wlz0eBACjSWg/aALHjv1fxgLbwtuq04HYHxc2sthaDYIcZAUAhSi0g5xw7FjVawOwDhWuxipz+8AMwhXAaETAAgAQAAIWAIAAELAAAASAgAUAIAAELAAAASBgAQAIAAELAEAACFgAAAJAwAIAEAACFgCAABT8ZxFv2Pyy/ntjl5KpYOYzReE4/rgxWnHNWZp36WneHgAIr4KvYG9Z82fCdZR4862D+tK9u70tAAg3mogBAAhAYE3EN954o7cGAMDoE1jAHsE87gAAhB5NxAAABICABQAgAAQsAAABIGAdXevnafz48d4yT80DPSmyu1nz7Jz5zerydgEA0J/wBGyqXQ11dapraFfK25WPjmXpAJ23vm80FletU3d3t7p3Nirm7QMA4EiEIGBTam9wgnWdVDbN25W3DiXqY2pcG1dra2Lo1WfJXK2zIL5/roq9XQAA9KfgAzaVWKdtF9aqvrZCk719educULxyjqJVUcVbatS42dsPAEBACj5gi6K1qo0WeVtD09EWVywWdarOckXrpHhbh3dksDq0PNtH6yzLBnp9r/OcZXmvMM80VQ90HAAwMoyCQU7p5uE5l6YbdctnxaX6hLM3H+VaYk3DzpJwArpf7gAop0KuS6T7c71lycXecYeFa/TZRiUzx3c2aksFIQsAI9HID9hM83CJt10SUUxxJYY51DruqVFrpROet5d7e3pxAnil9QOv8PXflszV4iFV1ACAQjfiA9aahzU94gu1qOZUBhRq/vv0q1U1U3ObiKP13iEAwIgywgPWmoedL/VRX6hFVNNi+/JtJh4OTgW7s6f5OLsMVPUCAEJrZAesNQ9bc3DvQHOfdx3eZuJ032603+dsXW7l7FSwt/EhFQAwGhT+bDqdTapr6vQ2/Io0q7ZWFYcYYOwOKlKinwqxS83znUp2uh2LpNetqu0ltjapdVXFTlAv1/iK/r4fC+8lyl7dBjpNrVGrt2ni7f6BTt59e90r9xwAwEjAdHUAAARgFDymAwDA0UfAAgAQAAIWAIAAELAAAASAgAUAIAAELAAAASBgAQAIAAELAEAACFgAAAJAwAIAEIBQBGwq0aC6urrs0pBIeUcGzz6X2GbTGfDD+AEAGEaFH7CdTWrYNEnV9fWqt6V2lrSpQf1+/v+AbNq6mBrXxtXammA2GwBA4Ao/YEurnWCtVqm3qaILVFbk5O62PBLWpq2rnKNoVVTxlho1DuM0dQAA9GdU9MF2tMUVi0VVrHJF66R4m3+q9Q4tHz9eyzfbVHKZSdmdZVmv6dhtKrrMMXdZfgwmbAcAhEX4Ajb1O21LOYVtWbamPYx08/CcS4vdrfTE6Ik+4RiviCi5yDche33UCV3voIXwbdKq7KTtSTVWxhWdz+TpAID+hSxgO9XU0KZU0SzNHmy+ZpqHS7ztkohiNlF6r2Zim1w9O+m5c84MbzWtXEvun+tUwBnFisZi3joAAH2FKGCdcK1rUqcTrrW1FSry9h6ONQ9reqQnHEuimlPZu5n48DKjkDNLZEGrdwQAgL5CErBDC9d087DzpT7qC8eIalpsX99m4oF0rZ+naL1T9WabiLuVXEsFCwAYWAgCdqjh6rDmYWsO9gWju1gfaz/NxIO2u1mLqGABAIdQ8AGbSjzqRKyttKnB92ETthzuWVi3ebguqnJvOyvPZuLiqsVuUEczVfDUpBa3O9cGAGAAYw46vPW87dixQ6tXr/a2csXjBBAAYPQK2ShiAADCgYAFACAABCwAAAEgYAEACAABCwBAAAhYAAACQMACABAAAhYAgAAQsAAABICABQAgAAQsAAABKPyATbX3+ZD/hkTKOzhYHVqena7Olnlq3u0dGk6blzvXXj7oafAAACNX4QdsUYVq6+tVn1lqZ0mbGg47k06WG3pRbVmb9E1Zt0q6p1ld3ikAAAy38DURF12gsiJpb9dgqlincq2IK+aE67qqYm+fKdbc2+c6/wIAEIzwBWzno2pLFals2iCmXncnXI9pzqWHitJ08/G89f56Nr1vuX9C9t3NmpfTzNxzvGv9vPQ+J8zlnzfWWXKv61x5Wc+x3ONeM/ayXg3M3n3976X3Nfq8BgBwzIUjYP39sE2dKq2uVcUg8rUrucX5d4YiJentoXPCb2qNZrRnmpjTy5KL00eLq9al97mTsMeV8J3jr5wtiBOzeo7Z+a0LIl54lqtmbUyqTzh369H1+Aa1VjaqxruXhWv02UYls/dw/oiojxKyAFBgwhGwOf2w1VKTE7TNg+2E7ZFT+c3Pvw823nZkIWZBnAll18VRJ457FFctdradgM5Wq11KtLYqFoumm7OdanZlvfM+Fvmbt8u1xIK9VzADAI6t8DURq1TV1aXS9q06XMQWR2Y4/25R0hsxXH57uupLWqWYFyfEMpXikTTL9mlmzg1Yu0+0zgnQVV74b3Yq15a4Fuf0H8cGqMh7vk8AwLEXwoCVUl17nar2LE3ytgfkVoit2vB4vrVqfyxkj6RZNt3MrJzRzNZHnKv8ukbFWjYo4YRlR5tztC7q3HkwhqMpHAAwXMIXsKl2rduUUtGFF+jw3bDpfs2efs7+RBSplFp3Jb1tG2zUu7LsLV1p9lEScepLfxPvoXUs6+c+JXO1uM7+KGhWoj6mxut88VoS1ZzKVtXc5m/edt6vO1K6ZpBBDAA4GsYcdHjreduxY4dWr17tbeWKxw8dUYPW2eQObOpRpFm1gxvklGXPwrojfH0qG5W83+vLtKZbp7psdQ847709qciqiJKLvIFMvY67/K/3sYFMkQU9Z/ofEep7LKE5rdGe+2Rk3m9dQt23947NLjXPj6imxdt09H0MCQBwrBV+wAIAEEKh7IMFAKDQEbAAAASAgAUAIAAELAAAASBgAQAIAAELAEAACFgAAAJAwAIAEAACFgCAABCwjuyE6e4yT829ZqVJH1/OdHAAgEELV8BmJ15vOuxUdb1l5oKdt77vzDrZCdN3NirfieyGn002MP4QkxMAAMIgRAGbUvu6Nqkon0/5z+hIz0yzNq7W1kTeE60DAJCv0ARsKrFObZqlebMPOwtsX5sTilfOUbQqqnhLjRqpDgEAAQtHwHpzwJbOrhjEHLB92cTlsVhUxd48rvG2IfSmVkYUsWnkDttXmznetznabaa2Sdpt+rvseV7fbnZfeo7YeEXmuLPM98//2tPcnV3ymvgdAHA0hCJgOze1KTWtWtWl3o68pJuH51yani+1fJYTX/WJ/AcsOZVvpEJKWF+tsyTqcic+T8/1OiN7vLs7oRkLIn37fOujGj81qcXuOUk1VsYVtYAsmat13uvcgG3PXMdZfPPOWrhGn21UMnPMzrdrErIAUFAKP2A7m9S0vVTVc4eUrj3NwyXedklEMSfCEnk3Ezuv6V7i1MBp5dc1KtayQQm3iu1Q44JWJxR7jjtnqGZtrJ8+X/91ihWNxaRnk4PrF3aq3JX1zhUW+Sd6L9eS9iH+0QAACEyBB2ynmpo6VVpdrSHGq9s8rOmRnkAqiWpOpRNSQ2km7qNVSV8zcU6zrrNEnNDtw5qavVXjjmD2VaiHF1Mk88dCji057wUAcGwVdsB2bnUfx+lsskdzvMUJXDd4bb2hXSn3xIFY87DzxZpQs8EXUU2L7RuOii837HKadTNLXuF5JGYMELwAgGOhsAO2tFr19fW5i9sRW6pqW689zKAnax52m2R7hZ77vOtQmokzutR8W41a6xZrrhtq3uCpiuH4MAqnwh2ownar79y+X/sjYnlFXLG1Nb7maQDAsRaKQU5D5TYP10X7Bk9OM7ETlvO96naqE5rOfzVT09uZAUrFkRnOv3FFfVXwhlhS3bf7elxvt4FP/nNyrzF4xZq7wvkDwF91Z0cRO8fuT6pRNYpk7xHVlrVJras6OnUyAGBwxhx0eOt527Fjh1avXu1t5YrHbSwsAACj04iuYAEAOFYIWAAAAkDAAgAQAAIWAIAAELAAAASAgAUAIAAELAAAASBgAQAIAAELAEAACFgAAAJAwBai3c2al/MZxACAsCn8gE21qyEzVZ1vcWetG4Su9fN6PjQ/sxBcAICAFf6H/VvANmxTWW2tKg45N93gWOBGWucoedTmaQUAjEY0EQMAEAAC1uWbE9Zb+szjmukXzS59J1fvrzm65zodWp6zbdL7lmcnfk9vZ1+/rNcdNi93m7c7MvfptU6zNwAUjpAEbEptDb4+2OZBdsAOioVrRDXTE+ru7k4vOxulBZHccLxNWpU53p1UY2VcUV+ouU3PC2YokXOOd3DQyrXEe32iztvVW0uNorsWu+8xZuvW3O2ub1Bit3cOAOCYK/yALapQbX296jNL7SwVbW8avpDd3Kialpgaryv3djhK5mrV2phaWxNegDrBl9NnW6xoLOatmw41LmhVvH2Jc2bQ/O/VWV9BXzIAFKLwNRE7gTvv8iJp+1YNXx07Q5ESb9WvJamkt9qxzNd06ywRJ1Czdie1xQm7fq8BABiVQtkHu7cr5QTtWZrkbecjucsJxumRwVV9lRFFnC/W/Butj/uaf7uVdCrcrJKIE9GtStJECwDwhC9gO5vUtF0qnV2hwTy107W+WT1DhTqUqJdi51hsei6OKu78F/UPKNrdrEXW5LtogOZX73gPJ4grpfiqTJ+s16/b4m540ue07srWxFo+3u4NABiJCj9gnUD1f8BEXZNUXV+v6lLv+GEUV0WUyDbtRrVlbVLrqvyxaQOLEorXR3uagKfWaEZ7t5ZcnD6juGpxOoSzx5Na3O6PxmLNvd+5RkuNIu45ESUX9R7k5JyzolGx7H2iUnuvc2yUsHePqPOHgLLn9h2xDAAobIX/QROhla5iN8R6BzoAYDQIZR8sAACFjoAFACAABGxgrF+2m+ZhABilCFgAAAJAwAIAEAACFgCAABCwAAAEgIAFACAABCwAAAEgYIfInVydSc4BAAMIT8Cm2tXg+0zihkTKO3Ao9nGF6c/29S89E6kDABCMUARsKtGguoZtKqvtmXi9NjqYuXQ8dYnsNHPdOxulBRGN98+eAwDAMCv8gHUq13WbpFm1tarII1MHVDJXq2wu1/oEM9QAAAJT8AGb2r5NqaIyXTAc4ernTaae0bEstxl5+WbvQMbuZs3zHY/kzAfr75O1eV4z581Tc84k7H2brGmuBoCRqeADdm9XSpo8WXubfXPC1jWofTBdsP3xJkuPxaLZydQtXKPPNirpa0beUuELWQtXb47YTFNz0qrg3tz5YFcqsjN9TqKuVTW39ZqEfXrf5mpCFgBGnnAMctrepK1lvv7Xy6W2hiZ1eocPK2cy9Q2a4wRg9kP4nfBcWR9T44q52cC1ZuTFdVK8Ld2I3HFPjVrrEtkJ2AfmXGfnOs0tSW+Vz4o7oZtU0jY2N6qmxTl+Xbl7zOU1V7e2JrwQBgCMFOEI2GnVqi711h1F0dkqdeJ162AT1j/IqbsnAHs4lebU3KbbaL13yIm+5LNOdJ7jb1AeyAxF/Ne+eIlzvyXqidRexzMyIQwAGDEKPmAnFRdJe/Yop0U4tUd7vdXhYZVnJoB9y+0WjcWKTHcieFeAEdirPxgAEH4FH7ButZpq06O+arVzU5tSRbM021fVDllJVHMq/X2lfUXOyR11bAOaeg9yOqyLo4o7/0X9jwd5/cHxRb7maQDAiBCCJuJSVdfO0t6mnkFOTXtmqba2QsMzsNgmRk+qUTZAKbeZODPIqbhqnRJ1Tjh6+yO7Fqu7PZ4+OGjlWtKdUDynPzg9cOrwfbsAgLAZc9Dhredtx44dWr16tbeVKx7PN4AAABg5wjHICQCAkCFgAQAIAAELAEAACFgAAAJAwAIAEAACFgCAABCwAAAEgIAFACAABCwAAAEgYAEACEDBf1RiZ3OdmrZ7GzmKNKu2VhXD84HEAAAMq1B+FnEq0aCGTZNUXV+t4ZhQBwCA4RbCJuJOPboppaLLbdJ1AAAKU+gCNpV41InYUs2O0jYMAChcIQtYqlcAQDiEKmCpXgEAYRGigE3pd89QvQIAwiE8Adv5qNpSRSqbRvUKACh8IQnYlNof7ZSmzea5VwBAKIQiYFOJdW71OutyGocBAOEQioAtitaqvp5PbQIAhEeIBjkBABAeBCwAAAEgYAEACAABCwBAAAhYAAACQMACABAAAhYAgAAQsAAABICABQAgAAQsAAABIGABAAgAAQsAQAAIWAAAAkDAAgAQAAIWAIAAELAAAASAgAUAIAAELAAAASBgAQAIAAELAEAACFgAAAJAwAIAEAACFgCAABCwAAAEgIAFACAABCwAAAEgYAEACAABCwBAAAhYAAACQMACABAAAhYAgAAQsAAABICABQAgAAQsAAABIGABAAgAAQsAQAAIWAAAAkDAAgAQAAIWAIAAELAAAASAgAUAIAAELAAAASBgAQAIAAELAEAACFgAAAJAwAIAEAACFgCAABCwAAAEgIAFACAABCwAAAEgYAEACAABCwBAAAhYAAACQMACABCAsQcPHvRWAQDAcHErWEIWAIDhRQULAEAAxh44cIAKFgCAYUYFCwDAsJP+P+Ci3FwzDnDEAAAAAElFTkSuQmCC)"
      ],
      "metadata": {
        "id": "WCmKpryEnPNo"
      }
    },
    {
      "cell_type": "code",
      "source": [
        "def procurar_contato():\n",
        "  nome = input('Digite um nome: ')\n",
        "  if nome == \"sair\":\n",
        "    return False\n",
        "\n",
        "  with open('/content/contatos.txt', 'r') as x:\n",
        "    contatos = x.read().splitlines()\n",
        "\n",
        "  if nome in contatos:\n",
        "    print('Contato encontrado!')\n",
        "  else:\n",
        "    print('Contato não encontrado.')\n",
        "  return True\n",
        "\n",
        "while procurar_contato():\n",
        "  pass\n"
      ],
      "metadata": {
        "colab": {
          "base_uri": "https://localhost:8080/"
        },
        "id": "v6xRHLruCEVq",
        "outputId": "9bdb3b5f-acfa-4e33-dc7c-8c746cec4fca"
      },
      "execution_count": null,
      "outputs": [
        {
          "name": "stdout",
          "output_type": "stream",
          "text": [
            "Digite um nome: Ana\n",
            "Contato encontrado!\n",
            "Digite um nome: Lucas\n",
            "Contato não encontrado.\n",
            "Digite um nome: sair\n"
          ]
        }
      ]
    },
    {
      "cell_type": "markdown",
      "source": [
        "Exercício 4\n",
        "\n",
        "Você é responsável por criar um sistema de biblioteca que permita aos usuários fazer login e consultar se um determinado livro está disponível. Primeiro, o usuário deve fazer login com nome de usuário e senha, e depois, pode consultar se um livro está na lista de livros disponíveis."
      ],
      "metadata": {
        "id": "9_0gkSfNsb_Q"
      }
    },
    {
      "cell_type": "markdown",
      "source": [
        "Instruções:\n",
        " - Crie um arquivo usuarios.json com os dados de usuários:\n",
        " - Crie um arquivo livros.txt com uma lista de livros disponíveis, cada um em uma linha:\n",
        " - Implemente um script que:\n",
        "\n",
        "    - Peça ao usuário para fazer login.\n",
        "    - Se o login for bem-sucedido, permita ao usuário consultar se um livro está disponível.\n",
        "    - Termine quando o usuário digitar \"sair\" no menu de consulta."
      ],
      "metadata": {
        "id": "thpfdTuCsb1y"
      }
    },
    {
      "cell_type": "markdown",
      "source": [
        "![image.png](data:image/png;base64,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)"
      ],
      "metadata": {
        "id": "si9aK3Lpt18P"
      }
    },
    {
      "cell_type": "code",
      "source": [
        "import json\n",
        "\n",
        "try:\n",
        "  with open('/content/usuarios.json', 'r') as f:\n",
        "    usuarios = json.load(f)\n",
        "except FileNotFoundError:\n",
        "  usuarios = {\"usuario1\": \"senha1\", \"usuario2\": \"senha2\"}\n",
        "  with open('/content/usuarios.json', 'w') as f:\n",
        "    json.dump(usuarios, f)\n",
        "\n",
        "try:\n",
        "  with open('/content/livros.txt', 'r') as f:\n",
        "    pass\n",
        "except FileNotFoundError:\n",
        "  with open('/content/livros.txt', 'w') as f:\n",
        "    f.write(\"O Senhor dos Anéis\\n\")\n",
        "    f.write('1984\\n')\n",
        "    f.write('O Hobbit\\n')\n",
        "\n",
        "def login():\n",
        "  while True:\n",
        "    nome = input('Nome de usuário: ')\n",
        "    senha = input(\"Senha: \")\n",
        "    if nome in usuarios and usuarios[nome] == senha:\n",
        "      print('Login bem-sucedido!')\n",
        "      return True\n",
        "    else:\n",
        "      print('Nome de usuário ou senha incorretos.')\n",
        "\n",
        "def consultar_livro():\n",
        "  with open('/content/livros.txt', 'r') as f:\n",
        "    livros = f.read().splitlines()\n",
        "  while True:\n",
        "    livro = input('Digite o nome do livro (ou 'sair'): ')\n",
        "    if livro == \"sair\":\n",
        "      break\n",
        "    if livro in livros:\n",
        "      print('O livro está disponível.')\n",
        "    else:\n",
        "      print('O livro não está disponível.')\n",
        "\n",
        "if login():\n",
        "  consultar_livro()\n"
      ],
      "metadata": {
        "colab": {
          "base_uri": "https://localhost:8080/"
        },
        "id": "u0z7o8FLkSak",
        "outputId": "8f80ecc4-4cad-4781-b849-eff60def22c4"
      },
      "execution_count": 2,
      "outputs": [
        {
          "name": "stdout",
          "output_type": "stream",
          "text": [
            "Nome de usuário: usuario1\n",
            "Senha: senha1\n",
            "Login bem-sucedido!\n",
            "Digite o nome do livro (ou 'sair'): Em Nome de Roma\n",
            "O livro não está disponível.\n",
            "Digite o nome do livro (ou 'sair'): sair\n"
          ]
        }
      ]
    }
  ]
}